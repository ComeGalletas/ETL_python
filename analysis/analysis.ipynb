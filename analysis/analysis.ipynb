{
 "cells": [
  {
   "cell_type": "markdown",
   "id": "154822d8-52ef-4b9e-a9fa-9c5d1a949a9b",
   "metadata": {},
   "source": [
    "<h1>Corresponsales Bancarios</h1>"
   ]
  },
  {
   "cell_type": "markdown",
   "id": "0fb1280d-9fa2-4946-b5ad-4eb7a320da09",
   "metadata": {},
   "source": [
    "<h3>0. Imports and Parameters</h3>"
   ]
  },
  {
   "cell_type": "code",
   "execution_count": 1,
   "id": "2a3bdfc7-b4cc-4dbf-a7ca-f43a10a71567",
   "metadata": {},
   "outputs": [],
   "source": [
    "import pandas as pd\n",
    "import numpy as np\n",
    "\n",
    "pd.options.display.max_rows = 9999"
   ]
  },
  {
   "cell_type": "code",
   "execution_count": 2,
   "id": "e8975b8a-9413-44ca-859e-e85579f16d72",
   "metadata": {},
   "outputs": [],
   "source": [
    "SEP_FILES = \";\"\n",
    "# Tipos de Operacion\n",
    "RETIROS_TYPE = [\"RETIRO_OTP\", \"RETIROCB\"]\n",
    "RECAUDOS_TYPE = [\"RECAUDOS\", \"RECAUDO\"]\n",
    "PAGOS_TYPE = [\"PAGO_PRESTAMOS\", \"PAGO_TARJETA_CREDITO\"]\n",
    "DEPOSITOS_TYPE = [\"DEPOSITOS\"]\n",
    "\n",
    "# Estados Operacion\n",
    "SUCCESS_ESTATE = ['RETIRO OTP EXITOSO','RECAUDO EXITOSO','REVERSO RECAUDO EXITOSO','PAGO PRESTAMOS EXITOSO','DEPOSITO EXITOSO','PAGO TARCRED EXITOSO', 'RETIROCBPAGADO', 'CARGOGENERADO','REVERSO RETIRO OTP EXITOSO']\n",
    "FAIL_ESTATE = ['RETIRO OTP NO EXITOSO', 'PAGO PRESTAMOS NO EXITOSO', 'PAGO TARCRED NO EXITOSO','PENDIENTEVALIDACION','TRANS-FAIL-C','CARGOFALLIDO', 'ANULADA']\n",
    "OTHER_ESTATE = ['FACTURAVALIDADA','RETIROCBVALIDO']"
   ]
  },
  {
   "cell_type": "markdown",
   "id": "e34c51e0-e7bb-4aa5-9e83-6dafebf71bec",
   "metadata": {},
   "source": [
    "<h3>1. Lectura de Insumos</h3>"
   ]
  },
  {
   "cell_type": "code",
   "execution_count": 3,
   "id": "69e2192c-7406-429a-9fce-edd334c23cbc",
   "metadata": {},
   "outputs": [],
   "source": [
    "new_format_files = [\n",
    "    \"/Users/alfonsocaro/developer/code/corresponsales_etl/src/input/LOG_TRAN_CBSWS_F220225.txt\"\n",
    "]\n",
    "\n",
    "old_format_files = [\n",
    "    \"/Users/alfonsocaro/developer/code/corresponsales_etl/src/input/logcb_20220227.csv\"\n",
    "]"
   ]
  },
  {
   "cell_type": "code",
   "execution_count": 4,
   "id": "0f6f62d2-66d9-434d-8658-3ca4b846edb8",
   "metadata": {},
   "outputs": [],
   "source": [
    "li = []\n",
    "for filename in new_format_files:\n",
    "    df = pd.read_csv(filename, index_col=None, header=0, sep=SEP_FILES)\n",
    "    li.append(df)\n",
    "\n",
    "new_format_frame = pd.concat(li, axis=0, ignore_index=True)"
   ]
  },
  {
   "cell_type": "code",
   "execution_count": 5,
   "id": "94faded8-d1df-4ac1-afd5-a1725a934145",
   "metadata": {},
   "outputs": [],
   "source": [
    "li = []\n",
    "for filename in old_format_files:\n",
    "    df = pd.read_csv(filename, index_col=None, header=0, sep=SEP_FILES)\n",
    "    li.append(df)\n",
    "\n",
    "old_format_frame = pd.concat(li, axis=0, ignore_index=True)"
   ]
  },
  {
   "cell_type": "markdown",
   "id": "eafe6d7f-a20f-494f-a1a6-8f61c08b849b",
   "metadata": {},
   "source": [
    "<h3>2. Limpieza y Union de Tablas</h3>"
   ]
  },
  {
   "cell_type": "code",
   "execution_count": 6,
   "id": "ed894a22-cc8a-4ed3-9bcd-68ddd010c31e",
   "metadata": {},
   "outputs": [],
   "source": [
    "new_format_frame[\"FECHA_CADUC\"] = np.nan                                                                                                                            \n",
    "old_format_frame.rename(columns = {'FECHA_CON':'FECHA_CONTA', 'NUMERO_CUENTA':'NUM_CUENTA'}, inplace = True)\n",
    "new_format_frame = new_format_frame.reindex(columns=[\n",
    "     'CB',\n",
    "     'UPC',\n",
    "     'TIPO',\n",
    "     'MEDIO',\n",
    "     'ESTADO',\n",
    "     'FECHA_OPER',\n",
    "     'FECHA_CONTA',\n",
    "     'VALOR',\n",
    "     'FECHA_CREA',\n",
    "     'FECHA_CADUC',\n",
    "     'FACTURA',\n",
    "     'TIPO_CUENTA',\n",
    "     'NUM_CUENTA',\n",
    "     'CONVENIO',\n",
    "     'MOVIMIENTO',\n",
    "     'MOVIMIENTO_2',\n",
    "     'CORRESPONSAL',\n",
    "     'PUNTO',\n",
    "     'TERMINAL',\n",
    "     'DESCRIP'\n",
    "])"
   ]
  },
  {
   "cell_type": "code",
   "execution_count": 7,
   "id": "c5dcdacf-54ab-482d-9a91-c4299c83d5ff",
   "metadata": {},
   "outputs": [],
   "source": [
    "frame = pd.concat([new_format_frame, old_format_frame], axis=0, ignore_index=True)"
   ]
  },
  {
   "cell_type": "code",
   "execution_count": 8,
   "id": "e025fb41-f82d-4c44-a494-ac8a20c8fcca",
   "metadata": {},
   "outputs": [],
   "source": [
    "frame['TIPO'] = frame['TIPO'].str.strip()\n",
    "frame['ESTADO'] = frame['ESTADO'].str.strip()\n",
    "frame['CORRESPONSAL'] = frame['CORRESPONSAL'].str.strip()\n",
    "frame['VALOR'] = frame['VALOR'].str.strip()\n",
    "frame['VALOR'] = frame['VALOR'].str.replace(',','.')"
   ]
  },
  {
   "cell_type": "markdown",
   "id": "70ff543d-7775-4cdf-ac47-52cc8aa68428",
   "metadata": {},
   "source": [
    "<h3>3. Totales</h3>"
   ]
  },
  {
   "cell_type": "code",
   "execution_count": 9,
   "id": "de8b955b-6bf4-4085-85b5-33eb5b0e37d0",
   "metadata": {},
   "outputs": [],
   "source": [
    "t_success  = frame[frame['ESTADO'].isin(SUCCESS_ESTATE)].shape[0]\n",
    "t_failure  = frame[frame['ESTADO'].isin(FAIL_ESTATE)].shape[0]\n",
    "t_others   = frame[~frame['ESTADO'].isin((SUCCESS_ESTATE + FAIL_ESTATE))].shape[0]"
   ]
  },
  {
   "cell_type": "code",
   "execution_count": 10,
   "id": "f732c29b-d163-4035-a20e-676397fa9440",
   "metadata": {},
   "outputs": [
    {
     "name": "stdout",
     "output_type": "stream",
     "text": [
      "Total Exitosas: 25134\n",
      "Total Fallidas: 559\n",
      "Total Otras: 89\n"
     ]
    }
   ],
   "source": [
    "print(f\"Total Exitosas: {t_success}\")\n",
    "print(f\"Total Fallidas: {t_failure}\")\n",
    "print(f\"Total Otras: {t_others}\")"
   ]
  },
  {
   "cell_type": "code",
   "execution_count": 11,
   "id": "88132f3b-1c40-4022-9c9e-bfc222578d43",
   "metadata": {},
   "outputs": [],
   "source": [
    "retiros_f = frame[frame['TIPO'].isin(RETIROS_TYPE)]\n",
    "recaudos_f = frame[frame['TIPO'].isin(RECAUDOS_TYPE)]\n",
    "pagos_f = frame[frame['TIPO'].isin(PAGOS_TYPE)]\n",
    "depositos_f = frame[frame['TIPO'].isin(DEPOSITOS_TYPE)]\n",
    "otros_f = frame[~frame['TIPO'].isin((RETIROS_TYPE + RECAUDOS_TYPE + PAGOS_TYPE + DEPOSITOS_TYPE))]"
   ]
  },
  {
   "cell_type": "markdown",
   "id": "0de40a72-57a5-4bdb-8119-98a45d093ccb",
   "metadata": {},
   "source": [
    "<h3>a. Retiros</h3>"
   ]
  },
  {
   "cell_type": "code",
   "execution_count": 12,
   "id": "6ca22aa9-5090-4597-a14e-0b0d8d269e3b",
   "metadata": {},
   "outputs": [],
   "source": [
    "# retiros\n",
    "t_retiros = retiros_f.shape[0]\n",
    "t_suss_retiros  = retiros_f[retiros_f['ESTADO'].isin(SUCCESS_ESTATE)].shape[0]\n",
    "t_fail_retiros  = retiros_f[retiros_f['ESTADO'].isin(FAIL_ESTATE)].shape[0]\n",
    "t_other_retiros = retiros_f[~retiros_f['ESTADO'].isin((SUCCESS_ESTATE + FAIL_ESTATE))].shape[0]"
   ]
  },
  {
   "cell_type": "code",
   "execution_count": 13,
   "id": "25a6ec0b-962d-460f-97e5-7a348536902b",
   "metadata": {},
   "outputs": [
    {
     "name": "stdout",
     "output_type": "stream",
     "text": [
      "Total retiros: 5759\n",
      "Total retiros exitosas: 5570\n",
      "Total retiros fallidos: 159\n",
      "Total retiros otros: 30\n"
     ]
    }
   ],
   "source": [
    "print(f\"Total retiros: {t_retiros}\")\n",
    "print(f\"Total retiros exitosas: {t_suss_retiros}\")\n",
    "print(f\"Total retiros fallidos: {t_fail_retiros}\")\n",
    "print(f\"Total retiros otros: {t_other_retiros}\")"
   ]
  },
  {
   "cell_type": "markdown",
   "id": "dd5d2089-6836-42bc-9193-f8a0497e5b69",
   "metadata": {},
   "source": [
    "<h3>b. Recaudos</h3>"
   ]
  },
  {
   "cell_type": "code",
   "execution_count": 14,
   "id": "852a23fb-8e37-4270-b9bc-d6291769e729",
   "metadata": {},
   "outputs": [],
   "source": [
    "# recaudos\n",
    "t_recaudos = recaudos_f.shape[0]\n",
    "t_suss_recaudos  = recaudos_f[recaudos_f['ESTADO'].isin(SUCCESS_ESTATE)].shape[0]\n",
    "t_fail_recaudos  = recaudos_f[recaudos_f['ESTADO'].isin(FAIL_ESTATE)].shape[0]\n",
    "t_other_recaudos = recaudos_f[~recaudos_f['ESTADO'].isin((SUCCESS_ESTATE + FAIL_ESTATE))].shape[0]"
   ]
  },
  {
   "cell_type": "code",
   "execution_count": 15,
   "id": "234a7a31-347d-469b-9388-6afdf40cbaea",
   "metadata": {},
   "outputs": [
    {
     "name": "stdout",
     "output_type": "stream",
     "text": [
      "Total recaudos: 17670\n",
      "Total recaudos exitosas: 17220\n",
      "Total recaudos fallidos: 393\n",
      "Total recaudos otros: 57\n"
     ]
    }
   ],
   "source": [
    "print(f\"Total recaudos: {t_recaudos}\")\n",
    "print(f\"Total recaudos exitosas: {t_suss_recaudos}\")\n",
    "print(f\"Total recaudos fallidos: {t_fail_recaudos}\")\n",
    "print(f\"Total recaudos otros: {t_other_recaudos}\")"
   ]
  },
  {
   "cell_type": "markdown",
   "id": "84cd84cd-41b5-4940-a3e6-5ef87724be7f",
   "metadata": {},
   "source": [
    "<h3>c. Pagos</h3>"
   ]
  },
  {
   "cell_type": "code",
   "execution_count": 16,
   "id": "5ae2720a-7a38-43d3-98af-43e49fc83f5c",
   "metadata": {},
   "outputs": [],
   "source": [
    "# pagos\n",
    "t_pagos = pagos_f.shape[0]\n",
    "t_suss_pagos  = pagos_f[pagos_f['ESTADO'].isin(SUCCESS_ESTATE)].shape[0]\n",
    "t_fail_pagos  = pagos_f[pagos_f['ESTADO'].isin(FAIL_ESTATE)].shape[0]\n",
    "t_other_pagos = pagos_f[~pagos_f['ESTADO'].isin((SUCCESS_ESTATE + FAIL_ESTATE))].shape[0]"
   ]
  },
  {
   "cell_type": "code",
   "execution_count": 17,
   "id": "60e0e6ab-5d22-4330-8a18-b23a14077b8d",
   "metadata": {},
   "outputs": [
    {
     "name": "stdout",
     "output_type": "stream",
     "text": [
      "Total pagos: 842\n",
      "Total pagos exitosas: 835\n",
      "Total pagos fallidos: 7\n",
      "Total pagos otros: 0\n"
     ]
    }
   ],
   "source": [
    "print(f\"Total pagos: {t_pagos}\")\n",
    "print(f\"Total pagos exitosas: {t_suss_pagos}\")\n",
    "print(f\"Total pagos fallidos: {t_fail_pagos}\")\n",
    "print(f\"Total pagos otros: {t_other_pagos}\")"
   ]
  },
  {
   "cell_type": "markdown",
   "id": "20f97c2f-e3e8-4c75-a179-46f5f80d71c4",
   "metadata": {},
   "source": [
    "<h3>d. Depositos</h3>"
   ]
  },
  {
   "cell_type": "code",
   "execution_count": 18,
   "id": "5f387cf4-1322-49b3-97f0-1062673d71c3",
   "metadata": {},
   "outputs": [],
   "source": [
    "# depositos\n",
    "t_depositos = depositos_f.shape[0]\n",
    "t_suss_depositos  = depositos_f[depositos_f['ESTADO'].isin(SUCCESS_ESTATE)].shape[0]\n",
    "t_fail_depositos  = depositos_f[depositos_f['ESTADO'].isin(FAIL_ESTATE)].shape[0]\n",
    "t_other_depositos = depositos_f[~depositos_f['ESTADO'].isin((SUCCESS_ESTATE + FAIL_ESTATE))].shape[0]"
   ]
  },
  {
   "cell_type": "code",
   "execution_count": 19,
   "id": "8909681e-0609-4765-81b0-9fa29fa13199",
   "metadata": {},
   "outputs": [
    {
     "name": "stdout",
     "output_type": "stream",
     "text": [
      "Total depositos: 1509\n",
      "Total depositos exitosas: 1509\n",
      "Total depositos fallidos: 0\n",
      "Total depositos otros: 0\n"
     ]
    }
   ],
   "source": [
    "print(f\"Total depositos: {t_depositos}\")\n",
    "print(f\"Total depositos exitosas: {t_suss_depositos}\")\n",
    "print(f\"Total depositos fallidos: {t_fail_depositos}\")\n",
    "print(f\"Total depositos otros: {t_other_depositos}\")"
   ]
  },
  {
   "cell_type": "markdown",
   "id": "5f4ef2e0-20a8-486b-a129-e8758c5e7c1b",
   "metadata": {},
   "source": [
    "<h3>e. Otros</h3>"
   ]
  },
  {
   "cell_type": "code",
   "execution_count": 20,
   "id": "219aa56e-1a0f-4953-b9ae-ddd257bec17a",
   "metadata": {},
   "outputs": [],
   "source": [
    "# otros\n",
    "t_otros = otros_f.shape[0]\n",
    "t_suss_otros  = otros_f[otros_f['ESTADO'].isin(SUCCESS_ESTATE)].shape[0]\n",
    "t_fail_otros  = otros_f[otros_f['ESTADO'].isin(FAIL_ESTATE)].shape[0]\n",
    "t_other_otros = otros_f[~otros_f['ESTADO'].isin((SUCCESS_ESTATE + FAIL_ESTATE))].shape[0]"
   ]
  },
  {
   "cell_type": "code",
   "execution_count": 21,
   "id": "a56bc1bf-b59c-4fea-af7d-0f9aaddee8f1",
   "metadata": {},
   "outputs": [
    {
     "name": "stdout",
     "output_type": "stream",
     "text": [
      "Total otros: 2\n",
      "Total otros exitosas: 0\n",
      "Total otros fallidos: 0\n",
      "Total otros otros: 2\n"
     ]
    }
   ],
   "source": [
    "print(f\"Total otros: {t_otros}\")\n",
    "print(f\"Total otros exitosas: {t_suss_otros}\")\n",
    "print(f\"Total otros fallidos: {t_fail_otros}\")\n",
    "print(f\"Total otros otros: {t_other_otros}\")"
   ]
  },
  {
   "cell_type": "code",
   "execution_count": 22,
   "id": "2ee17520-c77c-45f4-9d01-934c5e847bd2",
   "metadata": {},
   "outputs": [
    {
     "data": {
      "text/html": [
       "<div>\n",
       "<style scoped>\n",
       "    .dataframe tbody tr th:only-of-type {\n",
       "        vertical-align: middle;\n",
       "    }\n",
       "\n",
       "    .dataframe tbody tr th {\n",
       "        vertical-align: top;\n",
       "    }\n",
       "\n",
       "    .dataframe thead th {\n",
       "        text-align: right;\n",
       "    }\n",
       "</style>\n",
       "<table border=\"1\" class=\"dataframe\">\n",
       "  <thead>\n",
       "    <tr style=\"text-align: right;\">\n",
       "      <th></th>\n",
       "      <th>CB</th>\n",
       "      <th>UPC</th>\n",
       "      <th>TIPO</th>\n",
       "      <th>MEDIO</th>\n",
       "      <th>ESTADO</th>\n",
       "      <th>FECHA_OPER</th>\n",
       "      <th>FECHA_CONTA</th>\n",
       "      <th>VALOR</th>\n",
       "      <th>FECHA_CREA</th>\n",
       "      <th>FECHA_CADUC</th>\n",
       "      <th>FACTURA</th>\n",
       "      <th>TIPO_CUENTA</th>\n",
       "      <th>NUM_CUENTA</th>\n",
       "      <th>CONVENIO</th>\n",
       "      <th>MOVIMIENTO</th>\n",
       "      <th>MOVIMIENTO_2</th>\n",
       "      <th>CORRESPONSAL</th>\n",
       "      <th>PUNTO</th>\n",
       "      <th>TERMINAL</th>\n",
       "      <th>DESCRIP</th>\n",
       "    </tr>\n",
       "  </thead>\n",
       "  <tbody>\n",
       "    <tr>\n",
       "      <th>0</th>\n",
       "      <td>4</td>\n",
       "      <td>A0007800370</td>\n",
       "      <td>RETIRO_OTP</td>\n",
       "      <td>EF</td>\n",
       "      <td>RETIRO OTP EXITOSO</td>\n",
       "      <td>24/02/2022 21:35</td>\n",
       "      <td>NaN</td>\n",
       "      <td>700000.00</td>\n",
       "      <td>24/02/2022 21:35</td>\n",
       "      <td>NaN</td>\n",
       "      <td></td>\n",
       "      <td>CC</td>\n",
       "      <td>NaN</td>\n",
       "      <td></td>\n",
       "      <td></td>\n",
       "      <td></td>\n",
       "      <td>GELSA-PAGA-TODO</td>\n",
       "      <td>9924070.0</td>\n",
       "      <td>9924070.0</td>\n",
       "      <td>NaN</td>\n",
       "    </tr>\n",
       "    <tr>\n",
       "      <th>1</th>\n",
       "      <td>4</td>\n",
       "      <td>A0007800371</td>\n",
       "      <td>RETIRO_OTP</td>\n",
       "      <td>EF</td>\n",
       "      <td>RETIRO OTP EXITOSO</td>\n",
       "      <td>24/02/2022 21:38</td>\n",
       "      <td>NaN</td>\n",
       "      <td>500000.00</td>\n",
       "      <td>24/02/2022 21:38</td>\n",
       "      <td>NaN</td>\n",
       "      <td></td>\n",
       "      <td>CC</td>\n",
       "      <td>NaN</td>\n",
       "      <td></td>\n",
       "      <td></td>\n",
       "      <td></td>\n",
       "      <td>GELSA-PAGA-TODO</td>\n",
       "      <td>9924070.0</td>\n",
       "      <td>9924070.0</td>\n",
       "      <td>NaN</td>\n",
       "    </tr>\n",
       "    <tr>\n",
       "      <th>2</th>\n",
       "      <td>4</td>\n",
       "      <td>A0007800374</td>\n",
       "      <td>RECAUDOS</td>\n",
       "      <td>EF</td>\n",
       "      <td>RECAUDO EXITOSO</td>\n",
       "      <td>24/02/2022 21:55</td>\n",
       "      <td>NaN</td>\n",
       "      <td>38270.00</td>\n",
       "      <td>24/02/2022 21:55</td>\n",
       "      <td>NaN</td>\n",
       "      <td>85050875</td>\n",
       "      <td>EF</td>\n",
       "      <td>NaN</td>\n",
       "      <td>0000157</td>\n",
       "      <td></td>\n",
       "      <td></td>\n",
       "      <td>GELSA-PAGA-TODO</td>\n",
       "      <td>88207611.0</td>\n",
       "      <td>88207611.0</td>\n",
       "      <td>NaN</td>\n",
       "    </tr>\n",
       "    <tr>\n",
       "      <th>3</th>\n",
       "      <td>4</td>\n",
       "      <td>A0007800398</td>\n",
       "      <td>RECAUDOS</td>\n",
       "      <td>EF</td>\n",
       "      <td>RECAUDO EXITOSO</td>\n",
       "      <td>25/02/2022 06:09</td>\n",
       "      <td>NaN</td>\n",
       "      <td>9390.00</td>\n",
       "      <td>25/02/2022 06:09</td>\n",
       "      <td>NaN</td>\n",
       "      <td>87924158</td>\n",
       "      <td>EF</td>\n",
       "      <td>NaN</td>\n",
       "      <td>0000157</td>\n",
       "      <td></td>\n",
       "      <td></td>\n",
       "      <td>GELSA-PAGA-TODO</td>\n",
       "      <td>9960490.0</td>\n",
       "      <td>9960490.0</td>\n",
       "      <td>NaN</td>\n",
       "    </tr>\n",
       "    <tr>\n",
       "      <th>4</th>\n",
       "      <td>4</td>\n",
       "      <td>A0007800404</td>\n",
       "      <td>RECAUDOS</td>\n",
       "      <td>EF</td>\n",
       "      <td>RECAUDO EXITOSO</td>\n",
       "      <td>25/02/2022 06:13</td>\n",
       "      <td>NaN</td>\n",
       "      <td>39780.00</td>\n",
       "      <td>25/02/2022 06:13</td>\n",
       "      <td>NaN</td>\n",
       "      <td>82595510</td>\n",
       "      <td>EF</td>\n",
       "      <td>NaN</td>\n",
       "      <td>0000157</td>\n",
       "      <td></td>\n",
       "      <td></td>\n",
       "      <td>GELSA-PAGA-TODO</td>\n",
       "      <td>9970983.0</td>\n",
       "      <td>9970983.0</td>\n",
       "      <td>NaN</td>\n",
       "    </tr>\n",
       "  </tbody>\n",
       "</table>\n",
       "</div>"
      ],
      "text/plain": [
       "  CB          UPC        TIPO MEDIO              ESTADO        FECHA_OPER  \\\n",
       "0  4  A0007800370  RETIRO_OTP    EF  RETIRO OTP EXITOSO  24/02/2022 21:35   \n",
       "1  4  A0007800371  RETIRO_OTP    EF  RETIRO OTP EXITOSO  24/02/2022 21:38   \n",
       "2  4  A0007800374    RECAUDOS    EF     RECAUDO EXITOSO  24/02/2022 21:55   \n",
       "3  4  A0007800398    RECAUDOS    EF     RECAUDO EXITOSO  25/02/2022 06:09   \n",
       "4  4  A0007800404    RECAUDOS    EF     RECAUDO EXITOSO  25/02/2022 06:13   \n",
       "\n",
       "  FECHA_CONTA      VALOR        FECHA_CREA FECHA_CADUC               FACTURA  \\\n",
       "0         NaN  700000.00  24/02/2022 21:35         NaN                         \n",
       "1         NaN  500000.00  24/02/2022 21:38         NaN                         \n",
       "2         NaN   38270.00  24/02/2022 21:55         NaN  85050875               \n",
       "3         NaN    9390.00  25/02/2022 06:09         NaN  87924158               \n",
       "4         NaN   39780.00  25/02/2022 06:13         NaN  82595510               \n",
       "\n",
       "  TIPO_CUENTA  NUM_CUENTA              CONVENIO            MOVIMIENTO  \\\n",
       "0          CC         NaN                                               \n",
       "1          CC         NaN                                               \n",
       "2          EF         NaN  0000157                                      \n",
       "3          EF         NaN  0000157                                      \n",
       "4          EF         NaN  0000157                                      \n",
       "\n",
       "      MOVIMIENTO_2     CORRESPONSAL       PUNTO    TERMINAL  DESCRIP  \n",
       "0                   GELSA-PAGA-TODO   9924070.0   9924070.0      NaN  \n",
       "1                   GELSA-PAGA-TODO   9924070.0   9924070.0      NaN  \n",
       "2                   GELSA-PAGA-TODO  88207611.0  88207611.0      NaN  \n",
       "3                   GELSA-PAGA-TODO   9960490.0   9960490.0      NaN  \n",
       "4                   GELSA-PAGA-TODO   9970983.0   9970983.0      NaN  "
      ]
     },
     "execution_count": 22,
     "metadata": {},
     "output_type": "execute_result"
    }
   ],
   "source": [
    "frame.head()"
   ]
  },
  {
   "cell_type": "code",
   "execution_count": 23,
   "id": "e38c3364-218a-4518-a49a-fed01721244c",
   "metadata": {},
   "outputs": [
    {
     "data": {
      "text/plain": [
       "(25782, 20)"
      ]
     },
     "execution_count": 23,
     "metadata": {},
     "output_type": "execute_result"
    }
   ],
   "source": [
    "frame.shape"
   ]
  },
  {
   "cell_type": "code",
   "execution_count": 24,
   "id": "bb03468b-02ac-419c-aab2-763919f99172",
   "metadata": {},
   "outputs": [
    {
     "data": {
      "text/plain": [
       "['RETIRO_OTP',\n",
       " 'RECAUDOS',\n",
       " 'PAGO_PRESTAMOS',\n",
       " 'DEPOSITOS',\n",
       " 'PAGO_TARJETA_CREDITO',\n",
       " 'RECAUDO',\n",
       " 'RETIROCB',\n",
       " nan]"
      ]
     },
     "execution_count": 24,
     "metadata": {},
     "output_type": "execute_result"
    }
   ],
   "source": [
    "frame['TIPO'].unique().tolist()"
   ]
  },
  {
   "cell_type": "code",
   "execution_count": 25,
   "id": "279bd352-fab7-424c-a580-25ec1e8c7ce9",
   "metadata": {},
   "outputs": [
    {
     "data": {
      "text/plain": [
       "['RETIRO OTP EXITOSO',\n",
       " 'RECAUDO EXITOSO',\n",
       " 'REVERSO RECAUDO EXITOSO',\n",
       " 'RETIRO OTP NO EXITOSO',\n",
       " 'PAGO PRESTAMOS EXITOSO',\n",
       " 'DEPOSITO EXITOSO',\n",
       " 'PAGO TARCRED EXITOSO',\n",
       " 'PAGO PRESTAMOS NO EXITOSO',\n",
       " 'PAGO TARCRED NO EXITOSO',\n",
       " 'REVERSO RETIRO OTP EXITOSO',\n",
       " 'PENDIENTEVALIDACION',\n",
       " 'RETIROCBPAGADO',\n",
       " 'TRANS-FAIL-C',\n",
       " 'CARGOGENERADO',\n",
       " 'FACTURAVALIDADA',\n",
       " 'RETIROCBVALIDO',\n",
       " 'CARGOFALLIDO',\n",
       " nan]"
      ]
     },
     "execution_count": 25,
     "metadata": {},
     "output_type": "execute_result"
    }
   ],
   "source": [
    "frame['ESTADO'].unique().tolist()"
   ]
  },
  {
   "cell_type": "code",
   "execution_count": 26,
   "id": "438dbe33-0521-4e12-984c-c68f709e03b8",
   "metadata": {},
   "outputs": [
    {
     "data": {
      "text/plain": [
       "['GELSA-PAGA-TODO',\n",
       " 'BALOTO',\n",
       " 'JERONIMO MARTINS',\n",
       " 'SUPERGIROS',\n",
       " 'JJPITA',\n",
       " nan,\n",
       " 'TRANZA',\n",
       " 'FULLCARGA']"
      ]
     },
     "execution_count": 26,
     "metadata": {},
     "output_type": "execute_result"
    }
   ],
   "source": [
    "frame['CORRESPONSAL'].unique().tolist()"
   ]
  },
  {
   "cell_type": "code",
   "execution_count": 27,
   "id": "304b1afc-5c2e-4307-94bc-554c245996e1",
   "metadata": {},
   "outputs": [
    {
     "data": {
      "text/plain": [
       "CORRESPONSAL      ESTADO                    \n",
       "BALOTO            DEPOSITO EXITOSO              1509\n",
       "                  PAGO PRESTAMOS EXITOSO         317\n",
       "                  PAGO PRESTAMOS NO EXITOSO        4\n",
       "                  PAGO TARCRED EXITOSO           518\n",
       "                  PAGO TARCRED NO EXITOSO          3\n",
       "                  RETIRO OTP EXITOSO            3258\n",
       "                  RETIRO OTP NO EXITOSO           83\n",
       "FULLCARGA         CARGOFALLIDO                     3\n",
       "                  CARGOGENERADO                  589\n",
       "                  FACTURAVALIDADA                 57\n",
       "                  RETIROCBPAGADO                  42\n",
       "                  RETIROCBVALIDO                   7\n",
       "                  TRANS-FAIL-C                     1\n",
       "GELSA-PAGA-TODO   RECAUDO EXITOSO               5238\n",
       "                  RETIRO OTP EXITOSO             313\n",
       "                  RETIRO OTP NO EXITOSO            7\n",
       "                  REVERSO RECAUDO EXITOSO        100\n",
       "JERONIMO MARTINS  RETIRO OTP EXITOSO            1288\n",
       "                  RETIRO OTP NO EXITOSO            9\n",
       "                  REVERSO RETIRO OTP EXITOSO       1\n",
       "JJPITA            RECAUDO EXITOSO               3131\n",
       "                  RETIRO OTP EXITOSO             414\n",
       "                  RETIRO OTP NO EXITOSO           26\n",
       "                  REVERSO RECAUDO EXITOSO          4\n",
       "SUPERGIROS        RECAUDO EXITOSO               8118\n",
       "                  REVERSO RECAUDO EXITOSO         40\n",
       "TRANZA            RETIROCBPAGADO                 254\n",
       "                  RETIROCBVALIDO                  23\n",
       "                  TRANS-FAIL-C                    33\n",
       "dtype: int64"
      ]
     },
     "execution_count": 27,
     "metadata": {},
     "output_type": "execute_result"
    }
   ],
   "source": [
    "frame.groupby(['CORRESPONSAL','ESTADO']).size()"
   ]
  },
  {
   "cell_type": "markdown",
   "id": "4fb662ad-2fdf-4b4a-84b5-c6f79c97ae52",
   "metadata": {},
   "source": [
    "<h3>Suma de Valores</h3>"
   ]
  },
  {
   "cell_type": "code",
   "execution_count": 28,
   "id": "4e08effb-4eb6-4f20-b6d8-da86551a61f7",
   "metadata": {},
   "outputs": [],
   "source": [
    "frame['VALOR'] = frame['VALOR'].astype('float64')"
   ]
  },
  {
   "cell_type": "code",
   "execution_count": 29,
   "id": "9f405bda-8d0c-4919-945e-16abcb54e741",
   "metadata": {},
   "outputs": [
    {
     "name": "stdout",
     "output_type": "stream",
     "text": [
      "CB               object\n",
      "UPC              object\n",
      "TIPO             object\n",
      "MEDIO            object\n",
      "ESTADO           object\n",
      "FECHA_OPER       object\n",
      "FECHA_CONTA      object\n",
      "VALOR           float64\n",
      "FECHA_CREA       object\n",
      "FECHA_CADUC      object\n",
      "FACTURA          object\n",
      "TIPO_CUENTA      object\n",
      "NUM_CUENTA      float64\n",
      "CONVENIO         object\n",
      "MOVIMIENTO       object\n",
      "MOVIMIENTO_2     object\n",
      "CORRESPONSAL     object\n",
      "PUNTO           float64\n",
      "TERMINAL        float64\n",
      "DESCRIP         float64\n",
      "dtype: object\n"
     ]
    }
   ],
   "source": [
    "print(frame.dtypes)"
   ]
  },
  {
   "cell_type": "code",
   "execution_count": 30,
   "id": "7ceb33e4-4cae-4f93-8c26-cca4854334b0",
   "metadata": {},
   "outputs": [
    {
     "name": "stderr",
     "output_type": "stream",
     "text": [
      "/var/folders/gh/blc43pl93nd97ctnhl_38w5m0000gn/T/ipykernel_12233/386225710.py:1: FutureWarning: Dropping of nuisance columns in DataFrame reductions (with 'numeric_only=None') is deprecated; in a future version this will raise TypeError.  Select only valid columns before calling the reduction.\n",
      "  sum_success  = frame[frame['ESTADO'].isin(SUCCESS_ESTATE)].sum(axis=0)\n"
     ]
    }
   ],
   "source": [
    "sum_success  = frame[frame['ESTADO'].isin(SUCCESS_ESTATE)].sum(axis=0)\n",
    "#t_failure  = frame[frame['ESTADO'].isin(FAIL_ESTATE)].shape[0]\n",
    "#t_others   = frame[~frame['ESTADO'].isin((SUCCESS_ESTATE + FAIL_ESTATE))].shape[0]"
   ]
  },
  {
   "cell_type": "code",
   "execution_count": 31,
   "id": "adaa0cd4-e43e-434f-99c4-4fe48a64964b",
   "metadata": {},
   "outputs": [
    {
     "data": {
      "text/plain": [
       "4923200576.35"
      ]
     },
     "execution_count": 31,
     "metadata": {},
     "output_type": "execute_result"
    }
   ],
   "source": [
    "sum_success['VALOR']"
   ]
  },
  {
   "cell_type": "code",
   "execution_count": 32,
   "id": "4ffae641-a232-4cde-883f-814221f36ad8",
   "metadata": {},
   "outputs": [],
   "source": [
    "output_data = [\n",
    "    [\"Total Transacciones\",t_success],\n",
    "    [\"\",],\n",
    "    [\"\",],\n",
    "    [\"\",],\n",
    "    [\"\",],\n",
    "    [\"\",],\n",
    "    [\"\",],\n",
    "    [\"\",],\n",
    "    [\"\",]\n",
    "]\n"
   ]
  },
  {
   "cell_type": "code",
   "execution_count": null,
   "id": "cf07acdc-a5dd-4706-bd82-d861f31dee60",
   "metadata": {},
   "outputs": [],
   "source": []
  }
 ],
 "metadata": {
  "kernelspec": {
   "display_name": "Python 3 (ipykernel)",
   "language": "python",
   "name": "python3"
  },
  "language_info": {
   "codemirror_mode": {
    "name": "ipython",
    "version": 3
   },
   "file_extension": ".py",
   "mimetype": "text/x-python",
   "name": "python",
   "nbconvert_exporter": "python",
   "pygments_lexer": "ipython3",
   "version": "3.8.9"
  }
 },
 "nbformat": 4,
 "nbformat_minor": 5
}
